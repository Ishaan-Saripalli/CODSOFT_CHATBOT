{
  "nbformat": 4,
  "nbformat_minor": 0,
  "metadata": {
    "colab": {
      "provenance": []
    },
    "kernelspec": {
      "name": "python3",
      "display_name": "Python 3"
    },
    "language_info": {
      "name": "python"
    }
  },
  "cells": [
    {
      "cell_type": "code",
      "execution_count": 1,
      "metadata": {
        "colab": {
          "base_uri": "https://localhost:8080/"
        },
        "id": "ucRyaXH4aG_T",
        "outputId": "f6ada6a1-7a81-42e0-e701-d263cb4b030f"
      },
      "outputs": [
        {
          "output_type": "stream",
          "name": "stdout",
          "text": [
            "Welcome! (type 'bye' to exit)\n",
            "You: HELLO\n",
            "Ishaan's chatbot: Hello! I'm your personal assistant. How may I help you?\n",
            "You: I AM ISHAAN\n",
            "Ishaan's chatbot: Sorry, I didn't understand that.\n",
            "You: BYE\n",
            "Ishaan's chatbot: Goodbye!\n"
          ]
        }
      ],
      "source": [
        "def chatbot_reply(user_input):\n",
        "    user_input = user_input.lower()\n",
        "\n",
        "    if \"hello\" in user_input or \"hi\" in user_input:\n",
        "        return \"Hello! I'm your personal assistant. How may I help you?\"\n",
        "    elif \"what is your name\" in user_input:\n",
        "        return \"I'm just a chatbot. I don't have any personal details like humans. I can assist you in any other way.\"\n",
        "    elif \"bye\" in user_input or \"goodbye\" in user_input:\n",
        "        return \"Goodbye!\"\n",
        "    else:\n",
        "        return \"Sorry, I didn't understand that.\"\n",
        "\n",
        "def main():\n",
        "    print(\"Welcome! (type 'bye' to exit)\")\n",
        "\n",
        "    while True:\n",
        "        user_input = input(\"You: \")\n",
        "        reply = chatbot_reply(user_input)\n",
        "        print(\"Ishaan's chatbot: \" + reply)\n",
        "\n",
        "        if \"bye\" in user_input.lower() or \"goodbye\" in user_input.lower():\n",
        "            break\n",
        "\n",
        "if __name__ == \"__main__\":\n",
        "    main()"
      ]
    }
  ]
}